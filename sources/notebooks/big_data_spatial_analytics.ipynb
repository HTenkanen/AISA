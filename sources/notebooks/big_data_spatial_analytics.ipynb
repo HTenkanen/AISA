{
 "cells": [
  {
   "cell_type": "markdown",
   "metadata": {},
   "source": [
    "# 8. Applying spatial analytics in the Era of Big Data\n",
    "\n",
    "Nothing here. This is just a placeholder for demo purposes.\n",
    "\n",
    "Most of the methods in spatial data science were developed in a time when the data volumes were much smaller. In today's world it is quite typical to have very large datasets (e.g. billions of points) which bring challenges to store, process and analyze such data. For example conducting clustering with billion points using K-Means++ algorithm takes ages, hence, such clustering task requires using a dedicated approach that allows parallelizing the process using a dedicated `K-Means||` algorithm (\"Scalable K-Means\", Bahmani et al. 2012).\n",
    "\n",
    "Would include information about:\n",
    "\n",
    " - parallel computing\n",
    " - distributed computing on a cluster\n",
    " - how to measure the performance of your code\n",
    " - common pitfalls that slows down your analytical processes\n",
    "  "
   ]
  },
  {
   "cell_type": "code",
   "execution_count": null,
   "metadata": {},
   "outputs": [],
   "source": []
  }
 ],
 "metadata": {
  "kernelspec": {
   "display_name": "Python 3",
   "language": "python",
   "name": "python3"
  },
  "language_info": {
   "codemirror_mode": {
    "name": "ipython",
    "version": 3
   },
   "file_extension": ".py",
   "mimetype": "text/x-python",
   "name": "python",
   "nbconvert_exporter": "python",
   "pygments_lexer": "ipython3",
   "version": "3.8.1"
  }
 },
 "nbformat": 4,
 "nbformat_minor": 4
}
